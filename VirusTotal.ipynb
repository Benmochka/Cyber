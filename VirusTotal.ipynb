{
 "cells": [
  {
   "cell_type": "code",
   "execution_count": 1,
   "metadata": {},
   "outputs": [
    {
     "name": "stderr",
     "output_type": "stream",
     "text": [
      "c:\\Users\\Lenovo\\AppData\\Local\\Programs\\Python\\Python310\\lib\\site-packages\\tqdm\\auto.py:21: TqdmWarning: IProgress not found. Please update jupyter and ipywidgets. See https://ipywidgets.readthedocs.io/en/stable/user_install.html\n",
      "  from .autonotebook import tqdm as notebook_tqdm\n"
     ]
    }
   ],
   "source": [
    "import requests\n",
    "import os\n",
    "import gradio as gr"
   ]
  },
  {
   "cell_type": "code",
   "execution_count": 13,
   "metadata": {},
   "outputs": [],
   "source": [
    "def scanFileAtVT(file_path):\n",
    "    ##sending the file for scanning\n",
    "    url = 'https://www.virustotal.com/vtapi/v2/file/scan'\n",
    "    params = {'apikey': '453af95ed16995efc1d0894c5df35a4e9374de3792225c4a48f46c1f484afbb7'}\n",
    "    files = {'file': (file_path, open(file_path, 'rb'))}\n",
    "    response = requests.post(url, files=files, params=params)\n",
    "    response_json = response.json()\n",
    "    if response.status_code != 200:\n",
    "        print(\"Error submitting file for scanning\")\n",
    "    \n",
    "    ##sending the response to get the report\n",
    "    sha256 = response_json['sha256']\n",
    "    url = \"https://www.virustotal.com/vtapi/v2/file/report\"\n",
    "    params = {'apikey': '453af95ed16995efc1d0894c5df35a4e9374de3792225c4a48f46c1f484afbb7', 'resource':sha256}\n",
    "    response1 = requests.get(url, params=params)\n",
    "    data = response1.json()\n",
    "\n",
    "    ##printing how many sources found it malicious\n",
    "    try:\n",
    "        countpos = 0\n",
    "        counttotal = 0\n",
    "        for i in data['scans']:\n",
    "            counttotal += 1\n",
    "            if(data['scans'][i]['detected'] == True):\n",
    "                countpos += 1\n",
    "        print( f'{countpos} sources out of {counttotal} found ' + os.path.basename(file_path) + ' malicious') \n",
    "    except KeyError:\n",
    "        print(\"The file couldn't be scanned\")"
   ]
  },
  {
   "cell_type": "code",
   "execution_count": 3,
   "metadata": {},
   "outputs": [],
   "source": [
    "def getFiles(path):\n",
    "    for filename in os.listdir(path):\n",
    "        print(\"--\" + filename)\n",
    "        fullname = os.path.join(path, filename)\n",
    "        if os.path.isdir(fullname): \n",
    "            getFiles(fullname)\n",
    "        else:\n",
    "            scanFileAtVT(fullname) "
   ]
  },
  {
   "cell_type": "code",
   "execution_count": 12,
   "metadata": {},
   "outputs": [
    {
     "name": "stdout",
     "output_type": "stream",
     "text": [
      "Running on local URL:  http://127.0.0.1:7867\n",
      "\n",
      "To create a public link, set `share=True` in `launch()`.\n"
     ]
    },
    {
     "data": {
      "text/html": [
       "<div><iframe src=\"http://127.0.0.1:7867/\" width=\"100%\" height=\"500\" allow=\"autoplay; camera; microphone; clipboard-read; clipboard-write;\" frameborder=\"0\" allowfullscreen></iframe></div>"
      ],
      "text/plain": [
       "<IPython.core.display.HTML object>"
      ]
     },
     "metadata": {},
     "output_type": "display_data"
    },
    {
     "data": {
      "text/plain": []
     },
     "execution_count": 12,
     "metadata": {},
     "output_type": "execute_result"
    }
   ],
   "source": [
    "def dir_or_file(path):\n",
    "    if os.path.isfile(path):\n",
    "        scanFileAtVT(path)\n",
    "    if os.path.isdir(path):\n",
    "        getFiles(path)\n",
    "dir_or_file(r\"C:\\Users\\Lenovo\\Documents\\Diabetes prediction with KNN.docx\")\n",
    "demo = gr.Interface(\n",
    "    fn = dir_or_file,\n",
    "    inputs = \"text\",\n",
    "    outputs = \"text\",\n",
    ")\n",
    "\n",
    "demo.launch()"
   ]
  }
 ],
 "metadata": {
  "kernelspec": {
   "display_name": "Python 3",
   "language": "python",
   "name": "python3"
  },
  "language_info": {
   "codemirror_mode": {
    "name": "ipython",
    "version": 3
   },
   "file_extension": ".py",
   "mimetype": "text/x-python",
   "name": "python",
   "nbconvert_exporter": "python",
   "pygments_lexer": "ipython3",
   "version": "3.10.8"
  }
 },
 "nbformat": 4,
 "nbformat_minor": 2
}
